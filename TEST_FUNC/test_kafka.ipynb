{
 "cells": [
  {
   "cell_type": "code",
   "execution_count": 1,
   "metadata": {},
   "outputs": [],
   "source": [
    "from kafka import KafkaProducer\n",
    "from kafka.errors import KafkaError\n",
    "import socket\n",
    "import time\n",
    "import json\n",
    "from aws_msk_iam_sasl_signer import MSKAuthTokenProvider"
   ]
  },
  {
   "cell_type": "code",
   "execution_count": 2,
   "metadata": {},
   "outputs": [],
   "source": [
    "class MSKTokenProvider():\n",
    "    def token(self):\n",
    "        token, _ = MSKAuthTokenProvider.generate_auth_token(\"\")\n",
    "        return token\n",
    "\n",
    "tp = MSKTokenProvider()"
   ]
  },
  {
   "cell_type": "code",
   "execution_count": 25,
   "metadata": {},
   "outputs": [],
   "source": [
    "producer = KafkaProducer(\n",
    "    bootstrap_servers='',\n",
    "    security_protocol='SASL_SSL',\n",
    "    sasl_mechanism='OAUTHBEARER',\n",
    "    sasl_oauth_token_provider=tp,\n",
    "    client_id=socket.gethostname(),\n",
    "    acks=0,\n",
    "    key_serializer=lambda x: json.dumps(x).encode(\"utf-8\"),\n",
    "    value_serializer=lambda x: json.dumps(x).encode(\"utf-8\"),\n",
    ")"
   ]
  },
  {
   "cell_type": "code",
   "execution_count": 5,
   "metadata": {},
   "outputs": [],
   "source": [
    "from kafka import KafkaConsumer"
   ]
  },
  {
   "cell_type": "code",
   "execution_count": 12,
   "metadata": {},
   "outputs": [],
   "source": [
    "consumer = KafkaConsumer(\n",
    "    \"user1_device1\",\n",
    "    bootstrap_servers=\"\",\n",
    "    security_protocol=\"SASL_SSL\",\n",
    "    sasl_mechanism=\"OAUTHBEARER\",\n",
    "    sasl_oauth_token_provider=tp,\n",
    "    client_id=socket.gethostname(),\n",
    "    group_id=\"mygroup\",\n",
    "    auto_offset_reset=\"earliest\",\n",
    "    enable_auto_commit=True,\n",
    "    key_deserializer=lambda x: json.loads(x.decode(\"utf-8\")),\n",
    "    value_deserializer=lambda x: json.loads(x.decode(\"utf-8\")),\n",
    ")"
   ]
  },
  {
   "cell_type": "code",
   "execution_count": 4,
   "metadata": {},
   "outputs": [],
   "source": [
    "from kafka.admin import KafkaAdminClient, NewTopic"
   ]
  },
  {
   "cell_type": "code",
   "execution_count": 5,
   "metadata": {},
   "outputs": [],
   "source": [
    "admin_Client = KafkaAdminClient(\n",
    "    bootstrap_servers=\"\",\n",
    "    security_protocol=\"SASL_SSL\",\n",
    "    sasl_mechanism=\"OAUTHBEARER\",\n",
    "    sasl_oauth_token_provider=tp,\n",
    "    client_id=socket.gethostname(),\n",
    ")"
   ]
  },
  {
   "cell_type": "code",
   "execution_count": 27,
   "metadata": {},
   "outputs": [],
   "source": [
    "topic = NewTopic(name=\"user5_device5\", num_partitions=3, replication_factor=1)"
   ]
  },
  {
   "cell_type": "code",
   "execution_count": 29,
   "metadata": {},
   "outputs": [
    {
     "data": {
      "text/plain": [
       "CreateTopicsResponse_v2(throttle_time_ms=0, topic_errors=[(topic='user5_device5', error_code=0, error_message=None)])"
      ]
     },
     "execution_count": 29,
     "metadata": {},
     "output_type": "execute_result"
    }
   ],
   "source": [
    "admin_Client.create_topics(new_topics=[topic], validate_only=False)"
   ]
  },
  {
   "cell_type": "code",
   "execution_count": null,
   "metadata": {},
   "outputs": [],
   "source": []
  }
 ],
 "metadata": {
  "kernelspec": {
   "display_name": "base",
   "language": "python",
   "name": "python3"
  },
  "language_info": {
   "codemirror_mode": {
    "name": "ipython",
    "version": 3
   },
   "file_extension": ".py",
   "mimetype": "text/x-python",
   "name": "python",
   "nbconvert_exporter": "python",
   "pygments_lexer": "ipython3",
   "version": "3.10.12"
  }
 },
 "nbformat": 4,
 "nbformat_minor": 2
}
